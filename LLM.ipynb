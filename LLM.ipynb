{
  "cells": [
    {
      "cell_type": "code",
      "source": [
        "#this is my first commet for LLM code"
      ],
      "outputs": [],
      "execution_count": null,
      "metadata": {
        "id": "aAEtE7lMavDV"
      }
    },
    {
      "cell_type": "code",
      "source": [
        "safsdafdf"
      ],
      "outputs": [],
      "execution_count": null,
      "metadata": {}
    }
  ],
  "metadata": {
    "colab": {
      "provenance": [],
      "toc_visible": true,
      "authorship_tag": "ABX9TyMnVkNVxqqLyX8ipJ+B7k3g"
    },
    "kernelspec": {
      "name": "python3",
      "display_name": "Python 3"
    },
    "language_info": {
      "name": "python"
    },
    "microsoft": {
      "ms_spell_check": {
        "ms_spell_check_language": "en"
      }
    },
    "nteract": {
      "version": "nteract-front-end@1.0.0"
    }
  },
  "nbformat": 4,
  "nbformat_minor": 0
}